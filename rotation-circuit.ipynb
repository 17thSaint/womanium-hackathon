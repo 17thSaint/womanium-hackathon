{
 "cells": [
  {
   "cell_type": "code",
   "execution_count": 42,
   "id": "efc2115f-057e-45e3-9bf8-eeb81aaca91a",
   "metadata": {},
   "outputs": [],
   "source": [
    "# We will need some functionality \n",
    "from typing import List \n",
    "\n",
    "# and from math related libraries\n",
    "import numpy as np\n",
    "import qutip as qt\n",
    "\n",
    "import matplotlib.pyplot as plt\n",
    "\n",
    "# and from qiskit\n",
    "from qiskit.extensions import HamiltonianGate\n",
    "from qiskit import QuantumCircuit, QuantumRegister, Aer, execute\n",
    "from qiskit.providers.aer import QasmSimulator\n",
    "from qiskit.quantum_info import Operator\n",
    "from qiskit.circuit.library import InnerProduct"
   ]
  },
  {
   "cell_type": "code",
   "execution_count": 2,
   "id": "79d2f840-5b5c-4329-bf71-96d604bef99b",
   "metadata": {},
   "outputs": [],
   "source": [
    "def create_zz_hamiltonian(num_qubits: int, connectivity: List[List[int]],\n",
    "                              h_coeffs: List[float]) -> np.ndarray:\n",
    "    \"\"\"Creates a global Hamiltonian consisting of a sum of one (g * Z^i.Z^j) term per device connection.\n",
    "\n",
    "    Args:\n",
    "        num_qubits (int): number of qubits of the Hamiltonian\n",
    "        connectivity (List[List[int]]): connectivity of the device\n",
    "        h_coeffs (List[float]): list of coefficients of each ZZ term\n",
    "\n",
    "    Returns:\n",
    "        np.ndarray: tensored Hamiltonian\n",
    "    \"\"\"\n",
    "    \n",
    "    dim = 2 ** num_qubits\n",
    "    num_connections = len(connectivity)\n",
    "    zz_hamiltonian = np.zeros([dim, dim], dtype=np.complex128)\n",
    "\n",
    "    # create a matrix that is the sum of ZZ operators on all connected qubits,\n",
    "    # tensored with the identity\n",
    "    for c in range(num_connections):\n",
    "        ops_to_tensor = [qt.identity(2)] * num_qubits\n",
    "        ops_to_tensor[connectivity[c][0]] = qt.sigmaz()\n",
    "        ops_to_tensor[connectivity[c][1]] = qt.sigmaz()\n",
    "        zz_hamiltonian += h_coeffs[c] * np.array(qt.tensor(ops_to_tensor))\n",
    "\n",
    "    return zz_hamiltonian"
   ]
  },
  {
   "cell_type": "code",
   "execution_count": 3,
   "id": "c325411c-93fb-45c5-8622-e7f582f3bfb4",
   "metadata": {},
   "outputs": [],
   "source": [
    "qubits_count = 4\n",
    "coeff = 1.\n",
    "chain_connections = []\n",
    "interaction_strengths = [coeff for i in range(qubits_count)]\n",
    "for i in range(qubits_count-1):\n",
    "    chain_connections.append([i,i + 1])\n",
    "\n",
    "hamiltonian = create_zz_hamiltonian(qubits_count,chain_connections, interaction_strengths) \n",
    "ham_block = HamiltonianGate(data=hamiltonian, time=2) "
   ]
  },
  {
   "cell_type": "code",
   "execution_count": 51,
   "id": "6f745502-0ed7-4d27-a22a-716ef55f843d",
   "metadata": {},
   "outputs": [],
   "source": [
    "def rotate_circ(psi,num_qubits,analog_block):\n",
    "    qr = QuantumRegister(num_qubits)\n",
    "    circ = QuantumCircuit(qr)\n",
    "\n",
    "    circ.r(psi,0.0,0)\n",
    "    circ.unitary(analog_block, [qr[i] for i in range(num_qubits)], label='analog block')\n",
    "    circ.measure_all()\n",
    "\n",
    "    #As always, we can visualize our circuit using the `QuantumCircuit.draw()` method.\n",
    "    circ.draw()\n",
    "\n",
    "    simulator = Aer.get_backend('qasm_simulator') \n",
    "    job = execute(circ, simulator, shots=1024) \n",
    "\n",
    "    result = job.result()\n",
    "    counts = result.get_counts(circ)\n",
    "    \n",
    "    return counts\n"
   ]
  },
  {
   "cell_type": "code",
   "execution_count": 52,
   "id": "33ae05cb-7b0c-42e7-89d4-6986c797b28a",
   "metadata": {},
   "outputs": [
    {
     "data": {
      "text/plain": [
       "<matplotlib.legend.Legend at 0x7f8934746d00>"
      ]
     },
     "execution_count": 52,
     "metadata": {},
     "output_type": "execute_result"
    },
    {
     "data": {
      "image/png": "[encoded data removed]",
      "text/plain": [
       "<Figure size 432x288 with 1 Axes>"
      ]
     },
     "metadata": {
      "needs_background": "light"
     },
     "output_type": "display_data"
    }
   ],
   "source": [
    "zeroes = []\n",
    "ones = []\n",
    "points = 50\n",
    "angles = [i*np.pi/points for i in range(points)]\n",
    "for i in range(points):\n",
    "    angle = angles[i]\n",
    "    first_rot = rotate_circ(angle*2,qubits_count,ham_block)\n",
    "    if '0000' in first_rot.keys():\n",
    "        zeroes.append(first_rot['0000']/1024)\n",
    "    else:\n",
    "        zeroes.append(0.)\n",
    "    if '0001' in first_rot.keys():\n",
    "        ones.append(first_rot['0001']/1024)\n",
    "    else:\n",
    "        ones.append(0.)\n",
    "    \n",
    "plt.plot(angles,ones,label=\"Ones\")\n",
    "plt.plot(angles,zeroes,label=\"Zeroes\")\n",
    "plt.legend()\n",
    "#from qiskit.visualization import plot_histogram\n",
    "#plot_histogram(first_rot)"
   ]
  },
  {
   "cell_type": "code",
   "execution_count": null,
   "id": "2381be8d-aa6f-4899-81b1-f7b82bbbd065",
   "metadata": {},
   "outputs": [],
   "source": []
  }
 ],
 "metadata": {
  "kernelspec": {
   "display_name": "Python 3",
   "language": "python",
   "name": "python3"
  },
  "language_info": {
   "codemirror_mode": {
    "name": "ipython",
    "version": 3
   },
   "file_extension": ".py",
   "mimetype": "text/x-python",
   "name": "python",
   "nbconvert_exporter": "python",
   "pygments_lexer": "ipython3",
   "version": "3.8.10"
  }
 },
 "nbformat": 4,
 "nbformat_minor": 5
}
