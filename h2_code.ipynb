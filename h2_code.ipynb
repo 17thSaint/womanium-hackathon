{
 "cells": [
  {
   "cell_type": "code",
   "execution_count": 1,
   "id": "0042c91b-6a22-4625-8119-8cecb9afc3af",
   "metadata": {},
   "outputs": [
    {
     "name": "stderr",
     "output_type": "stream",
     "text": [
      "<ipython-input-1-f0190094edbb>:34: DeprecationWarning: The module 'qiskit.test.mock' is deprecated since Qiskit Terra 0.21.0, and will be removed 3 months or more later. Instead, you should import the desired object directly 'qiskit.providers.fake_provider'.\n",
      "  from qiskit.test.mock import FakeVigo\n"
     ]
    }
   ],
   "source": [
    "# We will need some functionality \n",
    "from typing import List \n",
    "\n",
    "import time\n",
    "\n",
    "# and from math related libraries\n",
    "import qutip as qt\n",
    "\n",
    "import matplotlib.pyplot as plt\n",
    "\n",
    "# and from qiskit\n",
    "from qiskit.extensions import HamiltonianGate\n",
    "from qiskit import QuantumCircuit, QuantumRegister, Aer, execute\n",
    "from qiskit.providers.aer import QasmSimulator\n",
    "from qiskit.quantum_info import Operator\n",
    "\n",
    "import numpy as np\n",
    "import pylab\n",
    "\n",
    "from qiskit import Aer\n",
    "from qiskit.utils import QuantumInstance, algorithm_globals\n",
    "from qiskit.algorithms import VQE, NumPyMinimumEigensolver\n",
    "from qiskit.algorithms.optimizers import SPSA\n",
    "from qiskit.circuit.library import TwoLocal\n",
    "from qiskit.opflow import I, X, Z\n",
    "\n",
    "from qiskit.utils.mitigation import CompleteMeasFitter\n",
    "\n",
    "from qiskit.circuit import Parameter\n",
    "\n",
    "import os\n",
    "from qiskit.providers.aer import QasmSimulator\n",
    "from qiskit.providers.aer.noise import NoiseModel\n",
    "from qiskit.test.mock import FakeVigo\n",
    "device_backend = FakeVigo()\n",
    "\n",
    "from ipynb.fs.full.da_vqe import analog_ansatz, get_conv_time, get_eigenvalue, get_ham_operator, get_ham_operator, plot_connectivity, get_connections_matrix, digital_ansatz"
   ]
  },
  {
   "cell_type": "code",
   "execution_count": 2,
   "id": "cfebb05a-7676-4b04-b1e6-75600d763637",
   "metadata": {},
   "outputs": [],
   "source": [
    "noise_model = None\n",
    "device = QasmSimulator.from_backend(device_backend)\n",
    "coupling_map = device.configuration().coupling_map\n",
    "noise_model = NoiseModel.from_backend(device)\n",
    "basis_gates = noise_model.basis_gates"
   ]
  },
  {
   "cell_type": "code",
   "execution_count": null,
   "id": "52176e1d-05cf-4040-ac4e-34c26ebac827",
   "metadata": {},
   "outputs": [
    {
     "name": "stdout",
     "output_type": "stream",
     "text": [
      "       ┌────────┐┌────────┐┌───────────────┐ ░ \n",
      "q17_0: ┤ Rx(a0) ├┤ Rz(b0) ├┤0              ├─░─\n",
      "       ├────────┤└────────┘│  analog block │ ░ \n",
      "q17_1: ┤ Rz(b1) ├──────────┤1              ├─░─\n",
      "       └────────┘          └───────────────┘ ░ \n"
     ]
    }
   ],
   "source": [
    "H2_op = (-1.052373245772859 * I ^ I) + (0.39793742484318045 * I ^ Z) + (-0.39793742484318045 * Z ^ I) + (-0.01128010425623538 * Z ^ Z) + (0.18093119978423156 * X ^ X)\n",
    "ham_block = HamiltonianGate(data=H2_op, time=2)\n",
    "chosen_op = H2_op\n",
    "\n",
    "qubits_count = 2\n",
    "\n",
    "seed = 170\n",
    "iterations = 200\n",
    "algorithm_globals.random_seed = seed\n",
    "backend = Aer.get_backend('aer_simulator')\n",
    "qi = QuantumInstance(backend=backend, seed_simulator=seed, seed_transpiler=seed,\n",
    "                         coupling_map=coupling_map, noise_model=noise_model, \n",
    "                         measurement_error_mitigation_cls=CompleteMeasFitter, \n",
    "                         cals_matrix_refresh_period=30)\n",
    "\n",
    "printing = True\n",
    "blocks = 1\n",
    "ana_dats = get_eigenvalue(\"analog\",qubits_count,chosen_op,qi,iterations,blocks,ham_block,printing)\n",
    "dig_dats = get_eigenvalue(\"digital\",qubits_count,chosen_op,qi,iterations,blocks,ham_block,printing)\n",
    "\n",
    "print(\"Analog Eigenvalue {}\".format(ana_dats[0]),\"Conv Time {}\".format(ana_dats[2]))\n",
    "plt.plot(ana_dats[1],label=\"A\")\n",
    "plt.plot(dig_dats[1],label=\"D\")\n",
    "plt.title(\"Convergence Series\");"
   ]
  },
  {
   "cell_type": "code",
   "execution_count": null,
   "id": "43ecdc26-b7ae-49b7-9ba5-921166713893",
   "metadata": {},
   "outputs": [],
   "source": []
  }
 ],
 "metadata": {
  "kernelspec": {
   "display_name": "Python 3",
   "language": "python",
   "name": "python3"
  },
  "language_info": {
   "codemirror_mode": {
    "name": "ipython",
    "version": 3
   },
   "file_extension": ".py",
   "mimetype": "text/x-python",
   "name": "python",
   "nbconvert_exporter": "python",
   "pygments_lexer": "ipython3",
   "version": "3.8.10"
  }
 },
 "nbformat": 4,
 "nbformat_minor": 5
}
