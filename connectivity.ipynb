{
 "cells": [
  {
   "cell_type": "code",
   "execution_count": 4,
   "id": "cca787b1-026a-4c51-bd7a-22409052852f",
   "metadata": {},
   "outputs": [],
   "source": [
    "# We will need some functionality \n",
    "from typing import List \n",
    "\n",
    "import time\n",
    "\n",
    "# and from math related libraries\n",
    "import qutip as qt\n",
    "\n",
    "import matplotlib.pyplot as plt\n",
    "\n",
    "# and from qiskit\n",
    "from qiskit.extensions import HamiltonianGate\n",
    "from qiskit import QuantumCircuit, QuantumRegister, Aer, execute\n",
    "from qiskit.providers.aer import QasmSimulator\n",
    "from qiskit.quantum_info import Operator\n",
    "\n",
    "import numpy as np\n",
    "import pylab\n",
    "\n",
    "from qiskit import Aer\n",
    "from qiskit.utils import QuantumInstance, algorithm_globals\n",
    "from qiskit.algorithms import VQE, NumPyMinimumEigensolver\n",
    "from qiskit.algorithms.optimizers import SPSA\n",
    "from qiskit.circuit.library import TwoLocal\n",
    "from qiskit.opflow import I, X, Z\n",
    "\n",
    "from qiskit.utils.mitigation import CompleteMeasFitter\n",
    "\n",
    "from qiskit.circuit import Parameter"
   ]
  },
  {
   "cell_type": "code",
   "execution_count": 5,
   "id": "10381804-69e0-4e31-a0c4-fec0476da707",
   "metadata": {},
   "outputs": [],
   "source": [
    "from ipynb.fs.full.da_vqe import analog_ansatz, get_conv_time, get_eigenvalue, get_ham_operator, get_ham_operator, plot_connectivity, get_connections_matrix"
   ]
  },
  {
   "cell_type": "code",
   "execution_count": 7,
   "id": "9d8b16a1-b187-4681-b8d5-224208c940a3",
   "metadata": {},
   "outputs": [
    {
     "name": "stdout",
     "output_type": "stream",
     "text": [
      "Coefficient Recommended 0.3333333333333333\n",
      "Number of qubits: 4\n",
      "Data Gathered 1/5\n",
      "Data Gathered 2/5\n",
      "Data Gathered 3/5\n",
      "Data Gathered 4/5\n",
      "Data Gathered 5/5\n"
     ]
    },
    {
     "ename": "AttributeError",
     "evalue": "'AxesSubplot' object has no attribute 'colorbar'",
     "output_type": "error",
     "traceback": [
      "\u001b[0;31m---------------------------------------------------------------------------\u001b[0m",
      "\u001b[0;31mAttributeError\u001b[0m                            Traceback (most recent call last)",
      "\u001b[0;32m<ipython-input-7-70465bae0e08>\u001b[0m in \u001b[0;36m<module>\u001b[0;34m\u001b[0m\n\u001b[1;32m     42\u001b[0m \u001b[0;34m\u001b[0m\u001b[0m\n\u001b[1;32m     43\u001b[0m     \u001b[0maxis\u001b[0m\u001b[0;34m[\u001b[0m\u001b[0;36m2\u001b[0m\u001b[0;34m]\u001b[0m\u001b[0;34m.\u001b[0m\u001b[0mimshow\u001b[0m\u001b[0;34m(\u001b[0m\u001b[0mnp\u001b[0m\u001b[0;34m.\u001b[0m\u001b[0mreal\u001b[0m\u001b[0;34m(\u001b[0m\u001b[0mhamiltonian\u001b[0m\u001b[0;34m)\u001b[0m\u001b[0;34m)\u001b[0m\u001b[0;34m\u001b[0m\u001b[0;34m\u001b[0m\u001b[0m\n\u001b[0;32m---> 44\u001b[0;31m     \u001b[0maxis\u001b[0m\u001b[0;34m[\u001b[0m\u001b[0;36m2\u001b[0m\u001b[0;34m]\u001b[0m\u001b[0;34m.\u001b[0m\u001b[0mcolorbar\u001b[0m\u001b[0;34m(\u001b[0m\u001b[0;34m)\u001b[0m\u001b[0;34m\u001b[0m\u001b[0;34m\u001b[0m\u001b[0m\n\u001b[0m\u001b[1;32m     45\u001b[0m     \u001b[0maxis\u001b[0m\u001b[0;34m[\u001b[0m\u001b[0;36m2\u001b[0m\u001b[0;34m]\u001b[0m\u001b[0;34m.\u001b[0m\u001b[0mset_title\u001b[0m\u001b[0;34m(\u001b[0m\u001b[0;34m'Graph {}'\u001b[0m\u001b[0;34m.\u001b[0m\u001b[0mformat\u001b[0m\u001b[0;34m(\u001b[0m\u001b[0mchosen_graph\u001b[0m\u001b[0;34m)\u001b[0m\u001b[0;34m)\u001b[0m\u001b[0;34m;\u001b[0m\u001b[0;34m\u001b[0m\u001b[0;34m\u001b[0m\u001b[0m\n\u001b[1;32m     46\u001b[0m     \u001b[0mplt\u001b[0m\u001b[0;34m.\u001b[0m\u001b[0mshow\u001b[0m\u001b[0;34m(\u001b[0m\u001b[0;34m)\u001b[0m\u001b[0;34m\u001b[0m\u001b[0;34m\u001b[0m\u001b[0m\n",
      "\u001b[0;31mAttributeError\u001b[0m: 'AxesSubplot' object has no attribute 'colorbar'"
     ]
    },
    {
     "data": {
      "image/png": "[encoded data removed]",
      "text/plain": [
       "<Figure size 432x288 with 3 Axes>"
      ]
     },
     "metadata": {
      "needs_background": "light"
     },
     "output_type": "display_data"
    }
   ],
   "source": [
    "#H2_op = (-1.052373245772859 * I ^ I) + (0.39793742484318045 * I ^ Z) + (-0.39793742484318045 * Z ^ I) + (-0.01128010425623538 * Z ^ Z) + (0.18093119978423156 * X ^ X)\n",
    "qubits_count = 4\n",
    "\n",
    "seed = 170\n",
    "iterations = 500\n",
    "algorithm_globals.random_seed = seed\n",
    "backend = Aer.get_backend('aer_simulator')\n",
    "qi = QuantumInstance(backend=backend, seed_simulator=seed, seed_transpiler=seed) \n",
    "\n",
    "for chosen_graph in [1,2,3,4,5,6]:\n",
    "    #chosen_graph = 2\n",
    "    connections,coeff = get_connections_matrix(chosen_graph)\n",
    "    print(\"Coefficient Recommended\",coeff)\n",
    "\n",
    "    chosen_op = get_ham_operator(qubits_count,connections,1.0)\n",
    "\n",
    "    hamiltonian = chosen_op.to_matrix()\n",
    "    ham_block = HamiltonianGate(data=hamiltonian, time=2) \n",
    "\n",
    "    print(f'Number of qubits: {chosen_op.num_qubits}')\n",
    "\n",
    "    ana_conv_times = []\n",
    "    #ana_conv_series = []\n",
    "    ana_eig_vals = []\n",
    "    blocks = 1\n",
    "    for it in range(5):\n",
    "        printing = False\n",
    "        ana_dats = get_eigenvalue(\"analog\",qubits_count,chosen_op,qi,iterations,blocks,ham_block,printing)\n",
    "\n",
    "        #ana_conv_series.append(ana_dats[1])\n",
    "        ana_conv_times.append(ana_dats[2])\n",
    "        ana_eig_vals.append(ana_dats[0])\n",
    "\n",
    "        print('Data Gathered {}/5'.format(it+1))\n",
    "\n",
    "    figure, axis = plt.subplots(1,3)\n",
    "    axis[0].plot(ana_eig_vals)\n",
    "    axis[0].set_title(\"Eigenvalues Graph {}\".format(chosen_graph))\n",
    "\n",
    "    axis[1].plot(ana_conv_times)\n",
    "    axis[1].set_title(\"Convergence Times Graph {}\".format(chosen_graph))\n",
    "    \n",
    "    axis[2].imshow(np.real(hamiltonian))\n",
    "    #axis[2].colorbar()\n",
    "    axis[2].set_title('Graph {}'.format(chosen_graph));\n",
    "    plt.show()"
   ]
  },
  {
   "cell_type": "code",
   "execution_count": null,
   "id": "bf33524c-ef62-4d79-a9d3-3b6ac3060112",
   "metadata": {},
   "outputs": [],
   "source": []
  }
 ],
 "metadata": {
  "kernelspec": {
   "display_name": "Python 3",
   "language": "python",
   "name": "python3"
  },
  "language_info": {
   "codemirror_mode": {
    "name": "ipython",
    "version": 3
   },
   "file_extension": ".py",
   "mimetype": "text/x-python",
   "name": "python",
   "nbconvert_exporter": "python",
   "pygments_lexer": "ipython3",
   "version": "3.8.10"
  }
 },
 "nbformat": 4,
 "nbformat_minor": 5
}
