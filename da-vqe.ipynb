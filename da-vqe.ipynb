{
 "cells": [
  {
   "cell_type": "code",
   "execution_count": 1,
   "id": "47406096-4570-443a-b58d-2b879c5ac4e6",
   "metadata": {},
   "outputs": [],
   "source": [
    "# We will need some functionality \n",
    "from typing import List \n",
    "\n",
    "import time\n",
    "\n",
    "# and from math related libraries\n",
    "import qutip as qt\n",
    "\n",
    "import matplotlib.pyplot as plt\n",
    "\n",
    "# and from qiskit\n",
    "from qiskit.extensions import HamiltonianGate\n",
    "from qiskit import QuantumCircuit, QuantumRegister, Aer, execute\n",
    "from qiskit.providers.aer import QasmSimulator\n",
    "from qiskit.quantum_info import Operator\n",
    "\n",
    "import numpy as np\n",
    "import pylab\n",
    "\n",
    "from qiskit import Aer\n",
    "from qiskit.utils import QuantumInstance, algorithm_globals\n",
    "from qiskit.algorithms import VQE, NumPyMinimumEigensolver\n",
    "from qiskit.algorithms.optimizers import SPSA\n",
    "from qiskit.circuit.library import TwoLocal\n",
    "from qiskit.opflow import I, X, Z\n",
    "\n",
    "from qiskit.utils.mitigation import CompleteMeasFitter\n",
    "\n",
    "\n",
    "import os\n",
    "from qiskit.providers.aer import QasmSimulator\n",
    "from qiskit.providers.aer.noise import NoiseModel\n",
    "#from qiskit.test.mock import FakeVigo\n",
    "from qiskit.providers.fake_provider import FakeVigo\n",
    "\n",
    "from qiskit.circuit import Parameter"
   ]
  },
  {
   "cell_type": "code",
   "execution_count": 13,
   "id": "12a4def4-2b61-43ff-b119-86995b86394c",
   "metadata": {},
   "outputs": [],
   "source": [
    "def analog_ansatz(analog_block,num_qubits,repeats=1):\n",
    "    psi = Parameter('a')\n",
    "    theta = Parameter('b')\n",
    "\n",
    "    qr = QuantumRegister(num_qubits)\n",
    "    ansatz = QuantumCircuit(qr)\n",
    "\n",
    "    \n",
    "    for r in range(repeats):\n",
    "        # add single-qubit rotation gates to all for variational parameter\n",
    "        ansatz.rx(psi, range(num_qubits))\n",
    "        \n",
    "        # add single-qubit rotation gates to all for second variational parameter\n",
    "        ansatz.rz(theta, range(num_qubits))\n",
    "\n",
    "        # analog block for multi-qubit mixing\n",
    "        ansatz.unitary(analog_block, [qr[i] for i in range(num_qubits)], label='analog block')\n",
    "\n",
    "    ansatz.barrier()\n",
    "    \n",
    "    return ansatz\n",
    "\n",
    "def digital_ansatz(num_qubits,repeats=1):\n",
    "    psi = Parameter('a')\n",
    "    theta = Parameter('b')\n",
    " \n",
    "    ansatz = QuantumCircuit(num_qubits)\n",
    "    for r in range(repeats):\n",
    "        # add single-qubit rotation gates to all for variational parameter\n",
    "        ansatz.rx(psi, range(num_qubits))\n",
    "        \n",
    "        # add single-qubit rotation gates to all for second variational parameter\n",
    "        ansatz.rz(theta, range(num_qubits))\n",
    "\n",
    "        # add chain of CNOTS for multi-qubit mixing\n",
    "        for i in range(num_qubits-1):\n",
    "            ansatz.cx(i, i+1)\n",
    "        ansatz.cx(num_qubits-1,0)\n",
    "    \n",
    "    ansatz.barrier()\n",
    "    \n",
    "    return ansatz"
   ]
  },
  {
   "cell_type": "code",
   "execution_count": 23,
   "id": "92a157b4-826e-4907-8ae0-608e6d279f40",
   "metadata": {},
   "outputs": [],
   "source": [
    "\n",
    "device_backend = FakeVigo()\n",
    "\n",
    "backend = Aer.get_backend('aer_simulator')\n",
    "noise_model = None\n",
    "device = QasmSimulator.from_backend(device_backend)\n",
    "coupling_map = device.configuration().coupling_map\n",
    "noise_model = NoiseModel.from_backend(device)\n",
    "basis_gates = noise_model.basis_gates\n",
    "\n",
    "seed = 170\n",
    "iterations = 125\n",
    "algorithm_globals.random_seed = seed\n",
    "backend = Aer.get_backend('aer_simulator')\n",
    "qi = QuantumInstance(backend=backend, seed_simulator=seed, seed_transpiler=seed) \n",
    "\n",
    "algorithm_globals.random_seed = seed\n",
    "qi = QuantumInstance(backend=backend, seed_simulator=seed, seed_transpiler=seed,\n",
    "                     coupling_map=coupling_map, noise_model=noise_model, \n",
    "                     measurement_error_mitigation_cls=CompleteMeasFitter, \n",
    "                     cals_matrix_refresh_period=30)\n",
    "\n",
    "        \n",
    "    \n",
    "\n",
    "def get_eigenvalue(which,num_qubits,ham_op,repeats=1,analog_block=0.0):\n",
    "    counts = []\n",
    "    values = []\n",
    "    if which == \"digital\":\n",
    "        chosen_ansatz = digital_ansatz(num_qubits,repeats)#TwoLocal(rotation_blocks='ry', entanglement_blocks='cz')#\n",
    "    else:\n",
    "        chosen_ansatz = analog_ansatz(analog_block,num_qubits,repeats)\n",
    "    \n",
    "    #print(chosen_ansatz)\n",
    "    def store_intermediate_result(eval_count, parameters, mean, std):\n",
    "        counts.append(eval_count)\n",
    "        values.append(mean)\n",
    "    \n",
    "    spsa = SPSA(maxiter=iterations)\n",
    "    vqe = VQE(chosen_ansatz, optimizer=spsa, callback=store_intermediate_result, quantum_instance=qi)\n",
    "    result = vqe.compute_minimum_eigenvalue(operator=ham_op)\n",
    "    final_eigval = result.eigenvalue.real\n",
    "    \n",
    "    return counts,values,final_eigval\n",
    "    \n",
    "#     print(which,\": \",final_eigval)\n",
    "    \n",
    "#     pylab.rcParams['figure.figsize'] = (12, 4)\n",
    "#     pylab.plot(counts, values, label=which)\n",
    "#     pylab.xlabel('Eval count')\n",
    "#     pylab.ylabel('Energy')\n",
    "#     pylab.legend()\n",
    "#     pylab.title('Convergence with noise, measurement error mitigation enabled');\n",
    "    \n",
    "    "
   ]
  },
  {
   "cell_type": "code",
   "execution_count": 27,
   "id": "dc9eb154-17b6-4b34-b052-ea4e4f45667a",
   "metadata": {},
   "outputs": [
    {
     "name": "stdout",
     "output_type": "stream",
     "text": [
      "Number of qubits: 3\n"
     ]
    }
   ],
   "source": [
    "#H2_op = (-1.052373245772859 * I ^ I) + (0.39793742484318045 * I ^ Z) + (-0.39793742484318045 * Z ^ I) + (-0.01128010425623538 * Z ^ Z) + (0.18093119978423156 * X ^ X)\n",
    "qubits_count = 3\n",
    "block_iters = 1\n",
    "coeff = 2.\n",
    "H2_op = coeff * Z\n",
    "for i in range(qubits_count-1):\n",
    "    H2_op ^= Z\n",
    "\n",
    "hamiltonian = H2_op.to_matrix()\n",
    "ham_block = HamiltonianGate(data=hamiltonian, time=2) \n",
    "\n",
    "print(f'Number of qubits: {H2_op.num_qubits}')\n",
    "\n",
    "#get_eigenvalue(\"analog\",qubits_count,H2_op,block_iters,ham_block)\n",
    "dats = get_eigenvalue(\"digital\",qubits_count,H2_op,block_iters)\n"
   ]
  },
  {
   "cell_type": "code",
   "execution_count": 47,
   "id": "a5215715-21ef-433a-9e48-c47e7df4c3cf",
   "metadata": {},
   "outputs": [
    {
     "name": "stdout",
     "output_type": "stream",
     "text": [
      "(70, [0.008235294117647193, 0.0, 0.008235294117647193, 0.0011764705882351604, 0.007058823529412033, 0.004705882352941177, 0.004705882352941177, 0.0023529411764705885, 0.001176470588235428, 0.0035294117647060165, 0.0035294117647060165, 0.0035294117647060165, 0.0035294117647060165, 0.0011764705882352942, 0.0011764705882352942, 0.0, 0.0035294117647060165, 0.0, 0.0035294117647060165, 0.001176470588235428, 0.001176470588235428, 0.0, 0.0035294117647060165, 0.0023529411764705885, 0.001176470588235428, 0.0, 0.0035294117647060165, 0.0035294117647060165, 0.0011764705882352942, 0.0047058823529413105, 0.0035294117647060165, 0.001176470588235428, 1.3374922084896005e-16, 0.0, 0.0023529411764707225, 0.0, 0.0023529411764707225, 0.0023529411764707225, 0.0047058823529413105, 0.0047058823529413105, 0.0047058823529413105, 0.0047058823529413105, 0.0, 0.0, 0.0, 0.0, 0.0, 0.0, 0.0, 0.0])\n"
     ]
    },
    {
     "data": {
      "image/png": "[encoded data removed]",
      "text/plain": [
       "<Figure size 864x288 with 1 Axes>"
      ]
     },
     "metadata": {
      "needs_background": "light"
     },
     "output_type": "display_data"
    }
   ],
   "source": [
    "def get_conv_time(steps,vals,stable_time=50,error=0.01):\n",
    "    changes = [ abs((vals[i] - vals[i+1])/vals[-1]) for i in range(stable_time)]\n",
    "    for t in range(len(vals)-stable_time-2):\n",
    "        if max(changes) <= error:\n",
    "            return t,changes\n",
    "        else:\n",
    "            changes.append(abs((vals[t+stable_time] - vals[t+stable_time+1])/vals[-1]))\n",
    "            del changes[0]\n",
    "    \n",
    "convdats = get_conv_time(dats[0],dats[1])\n",
    "print(convdats)\n",
    "plt.plot(dats[0],dats[1])\n",
    "plt.show()"
   ]
  },
  {
   "cell_type": "code",
   "execution_count": null,
   "id": "aa976969-5308-4785-b60c-3f0b238df7e8",
   "metadata": {},
   "outputs": [],
   "source": []
  }
 ],
 "metadata": {
  "kernelspec": {
   "display_name": "Python 3",
   "language": "python",
   "name": "python3"
  },
  "language_info": {
   "codemirror_mode": {
    "name": "ipython",
    "version": 3
   },
   "file_extension": ".py",
   "mimetype": "text/x-python",
   "name": "python",
   "nbconvert_exporter": "python",
   "pygments_lexer": "ipython3",
   "version": "3.8.10"
  }
 },
 "nbformat": 4,
 "nbformat_minor": 5
}
