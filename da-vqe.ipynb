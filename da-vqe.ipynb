{
 "cells": [
  {
   "cell_type": "code",
   "execution_count": 1,
   "id": "47406096-4570-443a-b58d-2b879c5ac4e6",
   "metadata": {},
   "outputs": [],
   "source": [
    "# We will need some functionality \n",
    "from typing import List \n",
    "\n",
    "# and from math related libraries\n",
    "import qutip as qt\n",
    "\n",
    "import matplotlib.pyplot as plt\n",
    "\n",
    "# and from qiskit\n",
    "from qiskit.extensions import HamiltonianGate\n",
    "from qiskit import QuantumCircuit, QuantumRegister, Aer, execute\n",
    "from qiskit.providers.aer import QasmSimulator\n",
    "from qiskit.quantum_info import Operator\n",
    "\n",
    "import numpy as np\n",
    "import pylab\n",
    "\n",
    "from qiskit import Aer\n",
    "from qiskit.utils import QuantumInstance, algorithm_globals\n",
    "from qiskit.algorithms import VQE, NumPyMinimumEigensolver\n",
    "from qiskit.algorithms.optimizers import SPSA\n",
    "from qiskit.circuit.library import TwoLocal\n",
    "from qiskit.opflow import I, X, Z\n",
    "\n",
    "from qiskit.utils.mitigation import CompleteMeasFitter\n",
    "\n",
    "\n",
    "import os\n",
    "from qiskit.providers.aer import QasmSimulator\n",
    "from qiskit.providers.aer.noise import NoiseModel\n",
    "#from qiskit.test.mock import FakeVigo\n",
    "from qiskit.providers.fake_provider import FakeVigo\n",
    "\n",
    "from qiskit.circuit import Parameter"
   ]
  },
  {
   "cell_type": "code",
   "execution_count": 2,
   "id": "12a4def4-2b61-43ff-b119-86995b86394c",
   "metadata": {},
   "outputs": [],
   "source": [
    "def analog_ansatz(analog_block,num_qubits):\n",
    "    psi = Parameter('a')\n",
    "    theta = Parameter('b')\n",
    "\n",
    "    qr = QuantumRegister(num_qubits)\n",
    "    ansatz = QuantumCircuit(qr)\n",
    "\n",
    "    ansatz.r(psi,theta,0)\n",
    "    ansatz.unitary(analog_block, [qr[i] for i in range(num_qubits)], label='analog block')\n",
    "\n",
    "    ansatz.barrier()\n",
    "    return ansatz\n",
    "\n",
    "def digital_ansatz(num_qubits):\n",
    "    psi = Parameter('a')\n",
    "    theta = Parameter('b')\n",
    " # Create a quantum circuit that is used for the ansatz\n",
    "    ansatz = QuantumCircuit(num_qubits)\n",
    "    ansatz.r(psi,theta,0)\n",
    "    # add some single-qubit gates\n",
    "    #for i in range(num_qubits-1):\n",
    "    #    if i % 2 == 0:\n",
    "    #        ansatz.rx(psi, i)\n",
    "\n",
    "    #ansatz.rz(theta, range(num_qubits))\n",
    "\n",
    "    # add a chain of CNOTs (multi-qubit gates)\n",
    "    #for i in range(num_qubits-1):\n",
    "    #    ansatz.cx(i, i+1)\n",
    "    #ansatz.cx(num_qubits-1,0)\n",
    "    ansatz.barrier()\n",
    "    \n",
    "    return ansatz"
   ]
  },
  {
   "cell_type": "code",
   "execution_count": 3,
   "id": "92a157b4-826e-4907-8ae0-608e6d279f40",
   "metadata": {},
   "outputs": [],
   "source": [
    "\n",
    "device_backend = FakeVigo()\n",
    "\n",
    "backend = Aer.get_backend('aer_simulator')\n",
    "noise_model = None\n",
    "device = QasmSimulator.from_backend(device_backend)\n",
    "coupling_map = device.configuration().coupling_map\n",
    "noise_model = NoiseModel.from_backend(device)\n",
    "basis_gates = noise_model.basis_gates\n",
    "\n",
    "seed = 170\n",
    "iterations = 125\n",
    "algorithm_globals.random_seed = seed\n",
    "backend = Aer.get_backend('aer_simulator')\n",
    "qi = QuantumInstance(backend=backend, seed_simulator=seed, seed_transpiler=seed) \n",
    "\n",
    "algorithm_globals.random_seed = seed\n",
    "qi = QuantumInstance(backend=backend, seed_simulator=seed, seed_transpiler=seed,\n",
    "                     coupling_map=coupling_map, noise_model=noise_model, \n",
    "                     measurement_error_mitigation_cls=CompleteMeasFitter, \n",
    "                     cals_matrix_refresh_period=30)\n",
    "\n",
    "\n",
    "def get_eigenvalue(which,num_qubits,ham_op,analog_block=0.0):\n",
    "    counts = []\n",
    "    values = []\n",
    "    if which == \"digital\":\n",
    "        chosen_ansatz = digital_ansatz(num_qubits)\n",
    "    else:\n",
    "        chosen_ansatz = analog_ansatz(analog_block,num_qubits)\n",
    "    \n",
    "    def store_intermediate_result(eval_count, parameters, mean, std):\n",
    "        counts.append(eval_count)\n",
    "        values.append(mean)\n",
    "    \n",
    "    spsa = SPSA(maxiter=iterations)\n",
    "    vqe = VQE(chosen_ansatz, optimizer=spsa, callback=store_intermediate_result, quantum_instance=qi)\n",
    "    result = vqe.compute_minimum_eigenvalue(operator=ham_op)\n",
    "    final_eigval = result.eigenvalue.real\n",
    "    print(which,\": \",final_eigval)\n",
    "    \n",
    "    pylab.rcParams['figure.figsize'] = (12, 4)\n",
    "    pylab.plot(counts, values, label=which)\n",
    "    pylab.xlabel('Eval count')\n",
    "    pylab.ylabel('Energy')\n",
    "    pylab.legend()\n",
    "    pylab.title('Convergence with noise, measurement error mitigation enabled');\n",
    "    "
   ]
  },
  {
   "cell_type": "code",
   "execution_count": 6,
   "id": "dc9eb154-17b6-4b34-b052-ea4e4f45667a",
   "metadata": {},
   "outputs": [
    {
     "name": "stdout",
     "output_type": "stream",
     "text": [
      "Number of qubits: 4\n"
     ]
    }
   ],
   "source": [
    "#og_op = (-1.052373245772859 * I ^ I) + (0.39793742484318045 * I ^ Z) + (-0.39793742484318045 * Z ^ I) + (-0.01128010425623538 * Z ^ Z) + (0.18093119978423156 * X ^ X)\n",
    "qubits_count = 4\n",
    "coeff = 2.\n",
    "H2_op = coeff * Z\n",
    "for i in range(qubits_count-1):\n",
    "    H2_op ^= Z\n",
    "\n",
    "hamiltonian = H2_op.to_matrix()\n",
    "ham_block = HamiltonianGate(data=hamiltonian, time=2) \n",
    "\n",
    "print(f'Number of qubits: {H2_op.num_qubits}')"
   ]
  },
  {
   "cell_type": "code",
   "execution_count": 7,
   "id": "6e157e18-05e5-4a7c-a400-dcb3d3bf4575",
   "metadata": {},
   "outputs": [
    {
     "name": "stdout",
     "output_type": "stream",
     "text": [
      "analog :  -1.98046875\n",
      "digital :  -1.98046875\n"
     ]
    },
    {
     "data": {
      "image/png": "[encoded data removed]",
      "text/plain": [
       "<Figure size 864x288 with 1 Axes>"
      ]
     },
     "metadata": {
      "needs_background": "light"
     },
     "output_type": "display_data"
    }
   ],
   "source": [
    "get_eigenvalue(\"analog\",qubits_count,H2_op,ham_block)\n",
    "get_eigenvalue(\"digital\",qubits_count,H2_op)"
   ]
  },
  {
   "cell_type": "code",
   "execution_count": null,
   "id": "a5215715-21ef-433a-9e48-c47e7df4c3cf",
   "metadata": {},
   "outputs": [],
   "source": []
  }
 ],
 "metadata": {
  "kernelspec": {
   "display_name": "Python 3",
   "language": "python",
   "name": "python3"
  },
  "language_info": {
   "codemirror_mode": {
    "name": "ipython",
    "version": 3
   },
   "file_extension": ".py",
   "mimetype": "text/x-python",
   "name": "python",
   "nbconvert_exporter": "python",
   "pygments_lexer": "ipython3",
   "version": "3.8.10"
  }
 },
 "nbformat": 4,
 "nbformat_minor": 5
}
